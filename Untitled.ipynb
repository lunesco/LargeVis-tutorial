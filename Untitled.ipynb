{
 "cells": [
  {
   "cell_type": "code",
   "execution_count": 1,
   "metadata": {},
   "outputs": [],
   "source": [
    "# Imports\n",
    "import io\n",
    "import time\n",
    "import numpy\n",
    "import base64\n",
    "import numpy as np\n",
    "import matplotlib.cm as cm\n",
    "import matplotlib.pyplot as plt\n",
    "from IPython.display import Image\n",
    "from IPython.display import clear_output\n",
    "from sklearn.manifold import TSNE\n",
    "import matplotlib.colors as mcolors"
   ]
  },
  {
   "cell_type": "code",
   "execution_count": null,
   "metadata": {},
   "outputs": [],
   "source": [
    "# Preparing the data\n",
    "input_file  = \"Examples/MNIST/mnist_vec784D.txt\"\n",
    "output_file = \"Examples/MNIST/mnist_10000_784.txt\"\n",
    "label_file  = \"Examples/MNIST/mnist_label.txt\"\n",
    "num_points = 10000\n",
    "num_dims = 784\n",
    "\n",
    "infile  = open(input_file, \"r\")\n",
    "outfile = open(output_file, \"w+\")\n",
    "oldlabelfile = open(label_file, \"r\")\n",
    "newlabelfile = open(\"Examples/MNIST/mnist_label_10000.txt\", \"w+\")\n",
    "\n",
    "counter = 0\n",
    "outfile.write(str(num_points) + \" \" + str(num_dims) + \"\\n\")\n",
    "\n",
    "lines = infile.readlines()\n",
    "labels = oldlabelfile.readlines()\n",
    "for line in lines[1:]:\n",
    "    label = int(labels[counter])\n",
    "    counter += 1\n",
    "    outfile.write(line)\n",
    "    newlabelfile.write(str(label) + '\\n')\n",
    "\n",
    "    if counter == num_points:\n",
    "        break\n",
    "\n",
    "infile.close()\n",
    "outfile.close()\n",
    "oldlabelfile.close()\n",
    "newlabelfile.close()"
   ]
  },
  {
   "cell_type": "code",
   "execution_count": null,
   "metadata": {},
   "outputs": [],
   "source": [
    "t_start = time.time()\n",
    "!./Linux/LargeVis \\\n",
    "    -input Examples/MNIST/mnist_10000_784.txt \\\n",
    "    -output Examples/MNIST/mnist_10000_2.txt\n",
    "t_end = time.time()\n",
    "print(f\"The task was carried out for {t_end - t_start} seconds.\\n\")\n",
    "# U mnie 10 minut"
   ]
  },
  {
   "cell_type": "code",
   "execution_count": null,
   "metadata": {},
   "outputs": [],
   "source": [
    "!python3 plot.py \\\n",
    "    -input Examples/MNIST/mnist_10000_2.txt \\\n",
    "    -label Examples/MNIST/mnist_label_10000.txt \\\n",
    "    -output Examples/MNIST/mnist_plot_10000\n"
   ]
  },
  {
   "cell_type": "code",
   "execution_count": null,
   "metadata": {},
   "outputs": [],
   "source": [
    "Image(\"Examples/MNIST/mnist_plot_10000.png\")"
   ]
  },
  {
   "cell_type": "code",
   "execution_count": null,
   "metadata": {},
   "outputs": [],
   "source": [
    "input_file  = \"Examples/MNIST/mnist_vec784D.txt\"\n",
    "output_file = \"Examples/MNIST/mnist_5000_784.txt\"\n",
    "label_file  = \"Examples/MNIST/mnist_label.txt\"\n",
    "num_points = 5000\n",
    "num_dims = 784\n",
    "\n",
    "infile  = open(input_file, \"r\")\n",
    "outfile = open(output_file, \"w+\")\n",
    "oldlabelfile = open(label_file, \"r\")\n",
    "newlabelfile = open(\"Examples/MNIST/mnist_label_5000.txt\", \"w+\")\n",
    "\n",
    "categories = [1,7,3,8,9]\n",
    "\n",
    "counter = 0\n",
    "outfile.write(str(num_points) + \" \" + str(num_dims) + \"\\n\")\n",
    "\n",
    "lines = infile.readlines()\n",
    "labels = oldlabelfile.readlines()\n",
    "i = 0\n",
    "for line in lines[1:]:\n",
    "    label = int(labels[i])\n",
    "    i += 1\n",
    "\n",
    "    if label in categories:\n",
    "        counter += 1\n",
    "        outfile.write(line)\n",
    "        newlabelfile.write(str(label) + '\\n')\n",
    "        if counter == num_points:\n",
    "            break\n",
    "\n",
    "infile.close()\n",
    "outfile.close()\n",
    "oldlabelfile.close()\n",
    "newlabelfile.close()"
   ]
  },
  {
   "cell_type": "code",
   "execution_count": null,
   "metadata": {},
   "outputs": [],
   "source": [
    "t_start = time.time()\n",
    "!./Linux/LargeVis \\\n",
    "    -input Examples/MNIST/mnist_5000_784.txt \\\n",
    "    -output Examples/MNIST/mnist_5000_2.txt\n",
    "t_end = time.time()\n",
    "print(f\"The task was carried out for {t_end - t_start} seconds.\\n\")\n",
    "# U mnie 10 minut nie wiedziec czemu tak dlugo xd"
   ]
  },
  {
   "cell_type": "code",
   "execution_count": null,
   "metadata": {},
   "outputs": [],
   "source": [
    "!python3 plot.py \\\n",
    "    -input Examples/MNIST/mnist_5000_2.txt \\\n",
    "    -label Examples/MNIST/mnist_label_5000.txt \\\n",
    "    -output Examples/MNIST/mnist_plot_5000"
   ]
  },
  {
   "cell_type": "code",
   "execution_count": null,
   "metadata": {},
   "outputs": [],
   "source": [
    "Image(\"Examples/MNIST/mnist_plot_5000.png\")"
   ]
  },
  {
   "cell_type": "code",
   "execution_count": null,
   "metadata": {},
   "outputs": [],
   "source": [
    "# bh-SNE for comparison\n",
    "with open(\"Examples/MNIST/mnist_10000_784.txt\", \"r\") as infile:\n",
    "    lines = infile.readlines()\n",
    "    final = []\n",
    "    for line in lines[1:]:\n",
    "        final.append( [ float(x) for x in line.split() ] )\n",
    "        \n",
    "\n",
    "#bhSNE:\n",
    "X = np.array(final)\n",
    "print(\"Barnes-Hut: \")\n",
    "bh_sne_model = TSNE(n_components=2, verbose=1, \\\n",
    "                    perplexity=40, n_iter=300, method='barnes_hut')\n",
    "t_start = time.time()\n",
    "X_embedded_bh = bh_sne_model.fit_transform(X)\n",
    "t_end = time.time()\n",
    "print(\"bh-SNE was carried out for {t_end - t_start} seconds.\\n\")\n",
    "# W tym przypadku 2.5 minuty"
   ]
  },
  {
   "cell_type": "code",
   "execution_count": null,
   "metadata": {},
   "outputs": [],
   "source": []
  }
 ],
 "metadata": {
  "kernelspec": {
   "display_name": "Python 3",
   "language": "python",
   "name": "python3"
  },
  "language_info": {
   "codemirror_mode": {
    "name": "ipython",
    "version": 3
   },
   "file_extension": ".py",
   "mimetype": "text/x-python",
   "name": "python",
   "nbconvert_exporter": "python",
   "pygments_lexer": "ipython3",
   "version": "3.6.7"
  }
 },
 "nbformat": 4,
 "nbformat_minor": 2
}
